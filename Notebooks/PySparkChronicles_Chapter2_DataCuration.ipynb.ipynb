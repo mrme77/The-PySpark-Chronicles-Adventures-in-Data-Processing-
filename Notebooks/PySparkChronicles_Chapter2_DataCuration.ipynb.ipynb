{
 "cells": [
  {
   "cell_type": "markdown",
   "id": "17123a3c-3a3d-43d7-8ab1-dbb6a43ed3bb",
   "metadata": {},
   "source": [
    "## Data Transformations"
   ]
  },
  {
   "cell_type": "markdown",
   "id": "9a178f51-fdc1-43cf-b73a-88a98a9437c7",
   "metadata": {},
   "source": [
    "### Libraries import and data ingestions"
   ]
  },
  {
   "cell_type": "code",
   "execution_count": 1,
   "id": "650b6bf6-e03d-46d2-bdcb-460088b14e28",
   "metadata": {},
   "outputs": [],
   "source": [
    "from common_libraries import * \n",
    "import project_function"
   ]
  },
  {
   "cell_type": "code",
   "execution_count": 2,
   "id": "5afe9666-27fc-45be-89f8-f169ae3700f1",
   "metadata": {},
   "outputs": [
    {
     "name": "stderr",
     "output_type": "stream",
     "text": [
      "Setting default log level to \"WARN\".\n",
      "To adjust logging level use sc.setLogLevel(newLevel). For SparkR, use setLogLevel(newLevel).\n"
     ]
    },
    {
     "name": "stdout",
     "output_type": "stream",
     "text": [
      "24/04/10 22:20:52 WARN NativeCodeLoader: Unable to load native-hadoop library for your platform... using builtin-java classes where applicable\n",
      "24/04/10 22:20:52 WARN Utils: Service 'SparkUI' could not bind on port 4040. Attempting port 4041.\n",
      "24/04/10 22:20:52 WARN Utils: Service 'SparkUI' could not bind on port 4041. Attempting port 4042.\n"
     ]
    }
   ],
   "source": [
    "logger = logging.getLogger(\"pyspark\")\n",
    "# Filter the NativeCodeLoader warning\n",
    "logger.addFilter(lambda record: \"WARN NativeCodeLoader\" not in record.getMessage())  \n",
    "# Filter the GarbageCollectionMetrics warning\n",
    "logger.addFilter(lambda record: \"WARN GarbageCollectionMetrics\" not in record.getMessage())  \n",
    "# creating a spark session\n",
    "\n",
    "spark = SparkSession.builder \\\n",
    "    .master(\"local[*]\") \\\n",
    "    .config(\"spark.sql.debug.catalog\", False) \\\n",
    "    .config(\"spark.logLevel\", \"ERROR\") \\\n",
    "    .config(\"spark.dynamicAllocation.enabled\", \"true\") \\\n",
    "    .config(\"spark.executor.memory\", \"8g\") \\\n",
    "    .config(\"spark.executor.cores\", \"4\") \\\n",
    "    .config(\"spark.driver.memory\", \"4g\") \\\n",
    "    .config(\"spark.driver.cores\", \"2\") \\\n",
    "    .getOrCreate()\n",
    "\n",
    "\n"
   ]
  },
  {
   "cell_type": "code",
   "execution_count": 3,
   "id": "cb74612d-8c73-4814-84a9-5b677849c77f",
   "metadata": {},
   "outputs": [
    {
     "name": "stderr",
     "output_type": "stream",
     "text": [
      "                                                                                \r"
     ]
    }
   ],
   "source": [
    "df = spark.read.csv(\"/Users/pasqualesalomone/Desktop/crime_data.csv\", header=True, inferSchema=True)\n"
   ]
  },
  {
   "cell_type": "code",
   "execution_count": 4,
   "id": "c9538856-d00e-417f-9bbd-c8ee949ea4f3",
   "metadata": {},
   "outputs": [
    {
     "data": {
      "text/plain": [
       "['DR_NO',\n",
       " 'Date Rptd',\n",
       " 'DATE OCC',\n",
       " 'TIME OCC',\n",
       " 'AREA',\n",
       " 'AREA NAME',\n",
       " 'Rpt Dist No',\n",
       " 'Part 1-2',\n",
       " 'Crm Cd',\n",
       " 'Crm Cd Desc',\n",
       " 'Mocodes',\n",
       " 'Vict Age',\n",
       " 'Vict Sex',\n",
       " 'Vict Descent',\n",
       " 'Premis Cd',\n",
       " 'Premis Desc',\n",
       " 'Weapon Used Cd',\n",
       " 'Weapon Desc',\n",
       " 'Status',\n",
       " 'Status Desc',\n",
       " 'Crm Cd 1',\n",
       " 'Crm Cd 2',\n",
       " 'Crm Cd 3',\n",
       " 'Crm Cd 4',\n",
       " 'LOCATION',\n",
       " 'Cross Street',\n",
       " 'LAT',\n",
       " 'LON']"
      ]
     },
     "execution_count": 4,
     "metadata": {},
     "output_type": "execute_result"
    }
   ],
   "source": [
    "df.columns"
   ]
  },
  {
   "cell_type": "markdown",
   "id": "d19034aa-875c-4d6f-8bff-d3fae1414a06",
   "metadata": {},
   "source": [
    "### Using lower case snake notation to standardize column names"
   ]
  },
  {
   "cell_type": "code",
   "execution_count": 5,
   "id": "8ab897d2-f575-4591-8665-7f562ce0adce",
   "metadata": {},
   "outputs": [],
   "source": [
    "column_snake_case_lambda = lambda s: re.sub(r'\\W+', ' ', s).lower().replace(' ', '_')\n"
   ]
  },
  {
   "cell_type": "code",
   "execution_count": 6,
   "id": "69ab4e51-e7c8-4e28-b71b-8454b28aeaa2",
   "metadata": {},
   "outputs": [],
   "source": [
    "new_columns = [column_snake_case_lambda(col_name) for col_name in df.columns]\n",
    "\n",
    "# Rename the columns in the DataFrame\n",
    "df = df.toDF(*new_columns)"
   ]
  },
  {
   "cell_type": "code",
   "execution_count": 7,
   "id": "5bff6c02-d36f-4304-a92b-1a3909dbd70a",
   "metadata": {},
   "outputs": [
    {
     "data": {
      "text/plain": [
       "[('dr_no', 'int'),\n",
       " ('date_rptd', 'string'),\n",
       " ('date_occ', 'string'),\n",
       " ('time_occ', 'int'),\n",
       " ('area', 'int'),\n",
       " ('area_name', 'string'),\n",
       " ('rpt_dist_no', 'int'),\n",
       " ('part_1_2', 'int'),\n",
       " ('crm_cd', 'int'),\n",
       " ('crm_cd_desc', 'string'),\n",
       " ('mocodes', 'string'),\n",
       " ('vict_age', 'int'),\n",
       " ('vict_sex', 'string'),\n",
       " ('vict_descent', 'string'),\n",
       " ('premis_cd', 'int'),\n",
       " ('premis_desc', 'string'),\n",
       " ('weapon_used_cd', 'int'),\n",
       " ('weapon_desc', 'string'),\n",
       " ('status', 'string'),\n",
       " ('status_desc', 'string'),\n",
       " ('crm_cd_1', 'int'),\n",
       " ('crm_cd_2', 'int'),\n",
       " ('crm_cd_3', 'int'),\n",
       " ('crm_cd_4', 'int'),\n",
       " ('location', 'string'),\n",
       " ('cross_street', 'string'),\n",
       " ('lat', 'double'),\n",
       " ('lon', 'double')]"
      ]
     },
     "execution_count": 7,
     "metadata": {},
     "output_type": "execute_result"
    },
    {
     "name": "stdout",
     "output_type": "stream",
     "text": [
      "24/04/10 22:21:05 WARN GarbageCollectionMetrics: To enable non-built-in garbage collector(s) List(G1 Concurrent GC), users should configure it(them) to spark.eventLog.gcMetrics.youngGenerationGarbageCollectors or spark.eventLog.gcMetrics.oldGenerationGarbageCollectors\n"
     ]
    }
   ],
   "source": [
    "df.dtypes"
   ]
  },
  {
   "cell_type": "markdown",
   "id": "c36026ce-e96d-4f51-87ab-d5b5ceb51d0a",
   "metadata": {},
   "source": [
    "### Converting data types"
   ]
  },
  {
   "cell_type": "code",
   "execution_count": 8,
   "id": "34964d4a-95e6-4bd3-b2f7-d5623d150bbc",
   "metadata": {},
   "outputs": [],
   "source": [
    "df = (df.withColumn(\"date_rptd\", \n",
    "                   to_date(concat_ws(\"-\", split(substring(col('date_rptd'),1,10), \"/\")[2], \n",
    "                              split(substring(col('date_rptd'),1,10), \"/\")[0], \n",
    "                              split(substring(col('date_rptd'),1,10), \"/\")[1]),'yyyy-mm-dd'))\\\n",
    "      .withColumn(\"date_occ\", \n",
    "                   to_date(concat_ws(\"-\", split(substring(col('date_occ'),1,10), \"/\")[2], \n",
    "                              split(substring(col('date_occ'),1,10), \"/\")[0], \n",
    "                              split(substring(col('date_occ'),1,10), \"/\")[1]),'yyyy-mm-dd'))\\\n",
    "\n",
    "      .withColumn('time_occ',col('time_occ').cast('string'))\n",
    "      .withColumn('weapon_used_cd', col('weapon_used_cd').cast('string'))\n",
    "      .withColumn('premis_cd', col('premis_cd').cast('string'))\n",
    "      .withColumn('crm_cd', col('crm_cd').cast('string'))\n",
    "      .withColumn('area', col('area').cast('string'))\n",
    "      .withColumn('crm_cd_1', col('crm_cd_1').cast('string'))\n",
    "      .withColumn('crm_cd_2', col('crm_cd_2').cast('string'))\n",
    "      .withColumn('crm_cd_3', col('crm_cd_3').cast('string'))\n",
    "      .withColumn('crm_cd_4', col('crm_cd_4').cast('string')))"
   ]
  },
  {
   "cell_type": "code",
   "execution_count": 9,
   "id": "16ec5953-c7d2-48ad-ae6f-e6879add390d",
   "metadata": {},
   "outputs": [
    {
     "data": {
      "text/plain": [
       "[('dr_no', 'int'),\n",
       " ('date_rptd', 'date'),\n",
       " ('date_occ', 'date'),\n",
       " ('time_occ', 'string'),\n",
       " ('area', 'string'),\n",
       " ('area_name', 'string'),\n",
       " ('rpt_dist_no', 'int'),\n",
       " ('part_1_2', 'int'),\n",
       " ('crm_cd', 'string'),\n",
       " ('crm_cd_desc', 'string'),\n",
       " ('mocodes', 'string'),\n",
       " ('vict_age', 'int'),\n",
       " ('vict_sex', 'string'),\n",
       " ('vict_descent', 'string'),\n",
       " ('premis_cd', 'string'),\n",
       " ('premis_desc', 'string'),\n",
       " ('weapon_used_cd', 'string'),\n",
       " ('weapon_desc', 'string'),\n",
       " ('status', 'string'),\n",
       " ('status_desc', 'string'),\n",
       " ('crm_cd_1', 'string'),\n",
       " ('crm_cd_2', 'string'),\n",
       " ('crm_cd_3', 'string'),\n",
       " ('crm_cd_4', 'string'),\n",
       " ('location', 'string'),\n",
       " ('cross_street', 'string'),\n",
       " ('lat', 'double'),\n",
       " ('lon', 'double')]"
      ]
     },
     "execution_count": 9,
     "metadata": {},
     "output_type": "execute_result"
    }
   ],
   "source": [
    "df.dtypes"
   ]
  },
  {
   "cell_type": "markdown",
   "id": "da1fd10f-d611-4625-8bdc-d02c98fd0872",
   "metadata": {},
   "source": [
    "### Renaming dr_no column to crime_record_id"
   ]
  },
  {
   "cell_type": "code",
   "execution_count": 10,
   "id": "a14ff96d-ce3b-4858-ab45-1cc5339d5cb7",
   "metadata": {},
   "outputs": [],
   "source": [
    "df = df.withColumnRenamed('dr_no','crime_record_id')"
   ]
  },
  {
   "cell_type": "markdown",
   "id": "710bd9ed-c450-408f-b890-ab8dcc2d1a6e",
   "metadata": {},
   "source": [
    "### Creating a new column days_to_report"
   ]
  },
  {
   "cell_type": "code",
   "execution_count": 11,
   "id": "8fdf52d5-fc88-4997-841b-b8c830e54470",
   "metadata": {},
   "outputs": [
    {
     "name": "stdout",
     "output_type": "stream",
     "text": [
      "24/04/10 22:21:15 WARN package: Truncated the string representation of a plan since it was too large. This behavior can be adjusted by setting 'spark.sql.debug.maxToStringFields'.\n",
      "-RECORD 0-------------------------------------\n",
      " crime_record_id       | 190326475            \n",
      " date_rptd             | 2020-01-01           \n",
      " date_occ              | 2020-01-01           \n",
      " time_occ              | 2130                 \n",
      " area                  | 7                    \n",
      " area_name             | Wilshire             \n",
      " rpt_dist_no           | 784                  \n",
      " part_1_2              | 1                    \n",
      " crm_cd                | 510                  \n",
      " crm_cd_desc           | VEHICLE - STOLEN     \n",
      " mocodes               | null                 \n",
      " vict_age              | 0                    \n",
      " vict_sex              | M                    \n",
      " vict_descent          | O                    \n",
      " premis_cd             | 101                  \n",
      " premis_desc           | STREET               \n",
      " weapon_used_cd        | null                 \n",
      " weapon_desc           | null                 \n",
      " status                | AA                   \n",
      " status_desc           | Adult Arrest         \n",
      " crm_cd_1              | 510                  \n",
      " crm_cd_2              | 998                  \n",
      " crm_cd_3              | null                 \n",
      " crm_cd_4              | null                 \n",
      " location              | 1900 S  LONGWOOD ... \n",
      " cross_street          | null                 \n",
      " lat                   | 34.0375              \n",
      " lon                   | -118.3506            \n",
      " column_days_to_report | 0                    \n",
      "-RECORD 1-------------------------------------\n",
      " crime_record_id       | 200106753            \n",
      " date_rptd             | 2020-01-09           \n",
      " date_occ              | 2020-01-08           \n",
      " time_occ              | 1800                 \n",
      " area                  | 1                    \n",
      " area_name             | Central              \n",
      " rpt_dist_no           | 182                  \n",
      " part_1_2              | 1                    \n",
      " crm_cd                | 330                  \n",
      " crm_cd_desc           | BURGLARY FROM VEH... \n",
      " mocodes               | 1822 1402 0344       \n",
      " vict_age              | 47                   \n",
      " vict_sex              | M                    \n",
      " vict_descent          | O                    \n",
      " premis_cd             | 128                  \n",
      " premis_desc           | BUS STOP/LAYOVER ... \n",
      " weapon_used_cd        | null                 \n",
      " weapon_desc           | null                 \n",
      " status                | IC                   \n",
      " status_desc           | Invest Cont          \n",
      " crm_cd_1              | 330                  \n",
      " crm_cd_2              | 998                  \n",
      " crm_cd_3              | null                 \n",
      " crm_cd_4              | null                 \n",
      " location              | 1000 S  FLOWER   ... \n",
      " cross_street          | null                 \n",
      " lat                   | 34.0444              \n",
      " lon                   | -118.2628            \n",
      " column_days_to_report | 1                    \n",
      "only showing top 2 rows\n",
      "\n"
     ]
    }
   ],
   "source": [
    "df = df.withColumn('column_days_to_report', datediff(\n",
    "                                                col('date_rptd'),col('date_occ')))\n",
    "df.show(2,vertical=True)"
   ]
  },
  {
   "cell_type": "markdown",
   "id": "d1a35ae5-444c-499d-a829-1ccf16f617ce",
   "metadata": {},
   "source": [
    "### Dropping columns with a nulls ratio grater than 60%"
   ]
  },
  {
   "cell_type": "code",
   "execution_count": 12,
   "id": "393bea22-1b0c-49e8-9f54-75b3514feb8d",
   "metadata": {},
   "outputs": [
    {
     "name": "stderr",
     "output_type": "stream",
     "text": [
      "                                                                                \r"
     ]
    },
    {
     "data": {
      "text/html": [
       "<div>\n",
       "<style scoped>\n",
       "    .dataframe tbody tr th:only-of-type {\n",
       "        vertical-align: middle;\n",
       "    }\n",
       "\n",
       "    .dataframe tbody tr th {\n",
       "        vertical-align: top;\n",
       "    }\n",
       "\n",
       "    .dataframe thead th {\n",
       "        text-align: right;\n",
       "    }\n",
       "</style>\n",
       "<table border=\"1\" class=\"dataframe\">\n",
       "  <thead>\n",
       "    <tr style=\"text-align: right;\">\n",
       "      <th></th>\n",
       "      <th>column_name</th>\n",
       "      <th>%null</th>\n",
       "    </tr>\n",
       "  </thead>\n",
       "  <tbody>\n",
       "    <tr>\n",
       "      <th>0</th>\n",
       "      <td>crm_cd_4</td>\n",
       "      <td>99.993086</td>\n",
       "    </tr>\n",
       "    <tr>\n",
       "      <th>1</th>\n",
       "      <td>crm_cd_3</td>\n",
       "      <td>99.755866</td>\n",
       "    </tr>\n",
       "    <tr>\n",
       "      <th>2</th>\n",
       "      <td>crm_cd_2</td>\n",
       "      <td>92.736789</td>\n",
       "    </tr>\n",
       "    <tr>\n",
       "      <th>3</th>\n",
       "      <td>cross_street</td>\n",
       "      <td>84.312103</td>\n",
       "    </tr>\n",
       "    <tr>\n",
       "      <th>4</th>\n",
       "      <td>weapon_used_cd</td>\n",
       "      <td>65.464611</td>\n",
       "    </tr>\n",
       "    <tr>\n",
       "      <th>5</th>\n",
       "      <td>weapon_desc</td>\n",
       "      <td>65.464611</td>\n",
       "    </tr>\n",
       "    <tr>\n",
       "      <th>6</th>\n",
       "      <td>mocodes</td>\n",
       "      <td>13.985006</td>\n",
       "    </tr>\n",
       "    <tr>\n",
       "      <th>7</th>\n",
       "      <td>vict_descent</td>\n",
       "      <td>13.305103</td>\n",
       "    </tr>\n",
       "    <tr>\n",
       "      <th>8</th>\n",
       "      <td>vict_sex</td>\n",
       "      <td>13.304023</td>\n",
       "    </tr>\n",
       "    <tr>\n",
       "      <th>9</th>\n",
       "      <td>premis_desc</td>\n",
       "      <td>0.060385</td>\n",
       "    </tr>\n",
       "    <tr>\n",
       "      <th>10</th>\n",
       "      <td>premis_cd</td>\n",
       "      <td>0.001188</td>\n",
       "    </tr>\n",
       "    <tr>\n",
       "      <th>11</th>\n",
       "      <td>crm_cd_1</td>\n",
       "      <td>0.001188</td>\n",
       "    </tr>\n",
       "  </tbody>\n",
       "</table>\n",
       "</div>"
      ],
      "text/plain": [
       "       column_name      %null\n",
       "0         crm_cd_4  99.993086\n",
       "1         crm_cd_3  99.755866\n",
       "2         crm_cd_2  92.736789\n",
       "3     cross_street  84.312103\n",
       "4   weapon_used_cd  65.464611\n",
       "5      weapon_desc  65.464611\n",
       "6          mocodes  13.985006\n",
       "7     vict_descent  13.305103\n",
       "8         vict_sex  13.304023\n",
       "9      premis_desc   0.060385\n",
       "10       premis_cd   0.001188\n",
       "11        crm_cd_1   0.001188"
      ]
     },
     "execution_count": 12,
     "metadata": {},
     "output_type": "execute_result"
    }
   ],
   "source": [
    "project_function.nulls_buster(df,spark)"
   ]
  },
  {
   "cell_type": "code",
   "execution_count": 13,
   "id": "b6545379-abb3-489e-96c5-afbe8b2dbd78",
   "metadata": {},
   "outputs": [],
   "source": [
    "df = df.drop('weapon_desc','weapon_used_cd','cross_street','crm_cd_2','crm_cd_3','crm_cd_4')"
   ]
  },
  {
   "cell_type": "code",
   "execution_count": 16,
   "id": "e4928b45-5ba1-4a97-983a-77712873ad2d",
   "metadata": {},
   "outputs": [],
   "source": [
    "#df.groupBy('vict_descent').count().orderBy('count', ascending=False).first()['vict_descent']\n",
    "   "
   ]
  },
  {
   "cell_type": "code",
   "execution_count": 14,
   "id": "fea6fe49-891f-4b45-a947-75a5f4264b30",
   "metadata": {},
   "outputs": [
    {
     "name": "stderr",
     "output_type": "stream",
     "text": [
      "                                                                                \r"
     ]
    }
   ],
   "source": [
    "df = project_function.impute_missing_values(df, [\n",
    "        \"mocodes\",\n",
    "        \"vict_descent\",\n",
    "        \"vict_sex\",\n",
    "        \"premis_desc\",\n",
    "        \"premis_cd\",\n",
    "        \"crm_cd_1\"\n",
    "    ])"
   ]
  },
  {
   "cell_type": "code",
   "execution_count": 17,
   "id": "ef143747-17d5-4514-9e0a-462e092eae81",
   "metadata": {},
   "outputs": [],
   "source": [
    "\n",
    "#df.select(sum(col('mocodes').isNull().cast('int'))).collect()[0][0]\n",
    "#df.filter((F.col('mocodes').isNull()) | (F.col('mocodes') == '')).count()\n",
    "#df.select(col('mocodes')).show()"
   ]
  },
  {
   "cell_type": "code",
   "execution_count": 15,
   "id": "0565381c-6fa4-49e0-b22c-99ceb340eeb2",
   "metadata": {},
   "outputs": [
    {
     "name": "stderr",
     "output_type": "stream",
     "text": [
      "                                                                                \r"
     ]
    },
    {
     "data": {
      "text/html": [
       "<div>\n",
       "<style scoped>\n",
       "    .dataframe tbody tr th:only-of-type {\n",
       "        vertical-align: middle;\n",
       "    }\n",
       "\n",
       "    .dataframe tbody tr th {\n",
       "        vertical-align: top;\n",
       "    }\n",
       "\n",
       "    .dataframe thead th {\n",
       "        text-align: right;\n",
       "    }\n",
       "</style>\n",
       "<table border=\"1\" class=\"dataframe\">\n",
       "  <thead>\n",
       "    <tr style=\"text-align: right;\">\n",
       "      <th></th>\n",
       "      <th>column_name</th>\n",
       "      <th>%null</th>\n",
       "    </tr>\n",
       "  </thead>\n",
       "  <tbody>\n",
       "  </tbody>\n",
       "</table>\n",
       "</div>"
      ],
      "text/plain": [
       "Empty DataFrame\n",
       "Columns: [column_name, %null]\n",
       "Index: []"
      ]
     },
     "execution_count": 15,
     "metadata": {},
     "output_type": "execute_result"
    }
   ],
   "source": [
    "project_function.nulls_buster(df,spark)"
   ]
  },
  {
   "cell_type": "code",
   "execution_count": 57,
   "id": "27e23793-d235-4024-8053-97064240a58d",
   "metadata": {},
   "outputs": [],
   "source": [
    "#df.groupBy('mocodes').agg(F.count('*').alias('count')).orderBy('count',ascending=False).show()\n"
   ]
  },
  {
   "cell_type": "code",
   "execution_count": 15,
   "id": "74747bdb-4fe6-4b0f-91b3-3eaa55fe6088",
   "metadata": {},
   "outputs": [],
   "source": [
    "categorical_columns = [df.dtypes[value][0] for value in range(0,len(df.columns)) if df.dtypes[value][1]=='string']"
   ]
  },
  {
   "cell_type": "code",
   "execution_count": 16,
   "id": "21463289-0a24-4202-9c0d-3a6e2e63d018",
   "metadata": {},
   "outputs": [],
   "source": [
    "numeric_columns = [df.dtypes[value][0] for value in range(0,len(df.columns)) if df.dtypes[value][1]=='int']"
   ]
  },
  {
   "cell_type": "code",
   "execution_count": null,
   "id": "4f8a92d5-080e-4449-b5a5-6063db50b15e",
   "metadata": {},
   "outputs": [],
   "source": []
  }
 ],
 "metadata": {
  "kernelspec": {
   "display_name": "Python 3 (ipykernel)",
   "language": "python",
   "name": "python3"
  },
  "language_info": {
   "codemirror_mode": {
    "name": "ipython",
    "version": 3
   },
   "file_extension": ".py",
   "mimetype": "text/x-python",
   "name": "python",
   "nbconvert_exporter": "python",
   "pygments_lexer": "ipython3",
   "version": "3.10.13"
  }
 },
 "nbformat": 4,
 "nbformat_minor": 5
}
